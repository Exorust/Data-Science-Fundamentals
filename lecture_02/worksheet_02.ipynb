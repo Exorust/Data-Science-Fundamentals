{
 "cells": [
  {
   "attachments": {},
   "cell_type": "markdown",
   "metadata": {},
   "source": [
    "# Worksheet 02\n",
    "\n",
    "Name:  Chandrahas Aroori\n",
    "UID: U01633980\n",
    "\n",
    "### Topics\n",
    "\n",
    "- Effective Programming\n",
    "\n",
    "### Effective Programming\n",
    "\n",
    "a) What is a drawback of the top down approach?"
   ]
  },
  {
   "cell_type": "markdown",
   "metadata": {},
   "source": [
    "Top down approach does not allow you to test/run the code until you finish the entire program. This makes testing of the code difficult."
   ]
  },
  {
   "cell_type": "markdown",
   "metadata": {},
   "source": [
    "b) What is a drawback of the bottom up approach?"
   ]
  },
  {
   "cell_type": "markdown",
   "metadata": {},
   "source": [
    "The main drawback of bottum up approach is you need to know all the details of the problem at the start itself."
   ]
  },
  {
   "cell_type": "markdown",
   "metadata": {},
   "source": [
    "c) What are 3 things you can do to have a better debugging experience?"
   ]
  },
  {
   "cell_type": "markdown",
   "metadata": {},
   "source": [
    "3 things that we can do for better debugging is:\n",
    "- Read the error slowly\n",
    "- Sanity check the basic parts of the code\n",
    "- Re-read your code slowly & try to explain/write it down"
   ]
  },
  {
   "attachments": {},
   "cell_type": "markdown",
   "metadata": {},
   "source": [
    "d) Follow along with the live coding. You can write your code here:"
   ]
  },
  {
   "cell_type": "code",
   "execution_count": 1,
   "metadata": {},
   "outputs": [
    {
     "ename": "AttributeError",
     "evalue": "'Board' object has no attribute 'board'",
     "output_type": "error",
     "traceback": [
      "\u001b[1;31m---------------------------------------------------------------------------\u001b[0m",
      "\u001b[1;31mAttributeError\u001b[0m                            Traceback (most recent call last)",
      "\u001b[1;32mc:\\Users\\chand\\Courses\\Fall-2023\\comp-tools\\Data-Science-Fundamentals\\lecture_02\\worksheet_02.ipynb Cell 8\u001b[0m line \u001b[0;36m9\n\u001b[0;32m     <a href='vscode-notebook-cell:/c%3A/Users/chand/Courses/Fall-2023/comp-tools/Data-Science-Fundamentals/lecture_02/worksheet_02.ipynb#X11sZmlsZQ%3D%3D?line=87'>88</a>\u001b[0m         \u001b[39mprint\u001b[39m(\u001b[39m\"\u001b[39m\u001b[39mNo more solutions\u001b[39m\u001b[39m\"\u001b[39m)\n\u001b[0;32m     <a href='vscode-notebook-cell:/c%3A/Users/chand/Courses/Fall-2023/comp-tools/Data-Science-Fundamentals/lecture_02/worksheet_02.ipynb#X11sZmlsZQ%3D%3D?line=91'>92</a>\u001b[0m my_board\u001b[39m=\u001b[39m Board()\n\u001b[1;32m---> <a href='vscode-notebook-cell:/c%3A/Users/chand/Courses/Fall-2023/comp-tools/Data-Science-Fundamentals/lecture_02/worksheet_02.ipynb#X11sZmlsZQ%3D%3D?line=92'>93</a>\u001b[0m my_board\u001b[39m.\u001b[39;49msearch()\n",
      "\u001b[1;32mc:\\Users\\chand\\Courses\\Fall-2023\\comp-tools\\Data-Science-Fundamentals\\lecture_02\\worksheet_02.ipynb Cell 8\u001b[0m line \u001b[0;36m6\n\u001b[0;32m     <a href='vscode-notebook-cell:/c%3A/Users/chand/Courses/Fall-2023/comp-tools/Data-Science-Fundamentals/lecture_02/worksheet_02.ipynb#X11sZmlsZQ%3D%3D?line=65'>66</a>\u001b[0m \u001b[39mwhile\u001b[39;00m row\u001b[39m>\u001b[39m\u001b[39m=\u001b[39m\u001b[39m0\u001b[39m:\n\u001b[0;32m     <a href='vscode-notebook-cell:/c%3A/Users/chand/Courses/Fall-2023/comp-tools/Data-Science-Fundamentals/lecture_02/worksheet_02.ipynb#X11sZmlsZQ%3D%3D?line=66'>67</a>\u001b[0m     \u001b[39mif\u001b[39;00m row\u001b[39m<\u001b[39m\u001b[39m8\u001b[39m:\n\u001b[1;32m---> <a href='vscode-notebook-cell:/c%3A/Users/chand/Courses/Fall-2023/comp-tools/Data-Science-Fundamentals/lecture_02/worksheet_02.ipynb#X11sZmlsZQ%3D%3D?line=67'>68</a>\u001b[0m         \u001b[39mif\u001b[39;00m \u001b[39mself\u001b[39;49m\u001b[39m.\u001b[39;49mis_legal(row,col):\n\u001b[0;32m     <a href='vscode-notebook-cell:/c%3A/Users/chand/Courses/Fall-2023/comp-tools/Data-Science-Fundamentals/lecture_02/worksheet_02.ipynb#X11sZmlsZQ%3D%3D?line=68'>69</a>\u001b[0m             \u001b[39mself\u001b[39m\u001b[39m.\u001b[39mset_queen_at(row,col)\n\u001b[0;32m     <a href='vscode-notebook-cell:/c%3A/Users/chand/Courses/Fall-2023/comp-tools/Data-Science-Fundamentals/lecture_02/worksheet_02.ipynb#X11sZmlsZQ%3D%3D?line=69'>70</a>\u001b[0m             row\u001b[39m+\u001b[39m\u001b[39m=\u001b[39m\u001b[39m1\u001b[39m\n",
      "\u001b[1;32mc:\\Users\\chand\\Courses\\Fall-2023\\comp-tools\\Data-Science-Fundamentals\\lecture_02\\worksheet_02.ipynb Cell 8\u001b[0m line \u001b[0;36m4\n\u001b[0;32m     <a href='vscode-notebook-cell:/c%3A/Users/chand/Courses/Fall-2023/comp-tools/Data-Science-Fundamentals/lecture_02/worksheet_02.ipynb#X11sZmlsZQ%3D%3D?line=41'>42</a>\u001b[0m \u001b[39mdef\u001b[39;00m \u001b[39mis_legal\u001b[39m(\u001b[39mself\u001b[39m,row,col):\n\u001b[1;32m---> <a href='vscode-notebook-cell:/c%3A/Users/chand/Courses/Fall-2023/comp-tools/Data-Science-Fundamentals/lecture_02/worksheet_02.ipynb#X11sZmlsZQ%3D%3D?line=42'>43</a>\u001b[0m     \u001b[39mif\u001b[39;00m \u001b[39mnot\u001b[39;00m \u001b[39mself\u001b[39;49m\u001b[39m.\u001b[39;49mis_legal_row(row,col):\n\u001b[0;32m     <a href='vscode-notebook-cell:/c%3A/Users/chand/Courses/Fall-2023/comp-tools/Data-Science-Fundamentals/lecture_02/worksheet_02.ipynb#X11sZmlsZQ%3D%3D?line=43'>44</a>\u001b[0m         \u001b[39mreturn\u001b[39;00m \u001b[39mFalse\u001b[39;00m \n\u001b[0;32m     <a href='vscode-notebook-cell:/c%3A/Users/chand/Courses/Fall-2023/comp-tools/Data-Science-Fundamentals/lecture_02/worksheet_02.ipynb#X11sZmlsZQ%3D%3D?line=44'>45</a>\u001b[0m     \u001b[39mif\u001b[39;00m \u001b[39mnot\u001b[39;00m \u001b[39mself\u001b[39m\u001b[39m.\u001b[39mis_legal_col(row,col):\n",
      "\u001b[1;32mc:\\Users\\chand\\Courses\\Fall-2023\\comp-tools\\Data-Science-Fundamentals\\lecture_02\\worksheet_02.ipynb Cell 8\u001b[0m line \u001b[0;36m1\n\u001b[0;32m     <a href='vscode-notebook-cell:/c%3A/Users/chand/Courses/Fall-2023/comp-tools/Data-Science-Fundamentals/lecture_02/worksheet_02.ipynb#X11sZmlsZQ%3D%3D?line=14'>15</a>\u001b[0m \u001b[39mdef\u001b[39;00m \u001b[39mis_legal_row\u001b[39m(\u001b[39mself\u001b[39m,row,col):\n\u001b[1;32m---> <a href='vscode-notebook-cell:/c%3A/Users/chand/Courses/Fall-2023/comp-tools/Data-Science-Fundamentals/lecture_02/worksheet_02.ipynb#X11sZmlsZQ%3D%3D?line=15'>16</a>\u001b[0m     \u001b[39mfor\u001b[39;00m j \u001b[39min\u001b[39;00m \u001b[39mrange\u001b[39m (\u001b[39mlen\u001b[39m(\u001b[39mself\u001b[39;49m\u001b[39m.\u001b[39;49mboard)):\n\u001b[0;32m     <a href='vscode-notebook-cell:/c%3A/Users/chand/Courses/Fall-2023/comp-tools/Data-Science-Fundamentals/lecture_02/worksheet_02.ipynb#X11sZmlsZQ%3D%3D?line=16'>17</a>\u001b[0m         \u001b[39mif\u001b[39;00m \u001b[39mself\u001b[39m\u001b[39m.\u001b[39mboard[row][j]\u001b[39m==\u001b[39m\u001b[39m\"\u001b[39m\u001b[39mQ\u001b[39m\u001b[39m\"\u001b[39m:\n\u001b[0;32m     <a href='vscode-notebook-cell:/c%3A/Users/chand/Courses/Fall-2023/comp-tools/Data-Science-Fundamentals/lecture_02/worksheet_02.ipynb#X11sZmlsZQ%3D%3D?line=17'>18</a>\u001b[0m             \u001b[39mreturn\u001b[39;00m \u001b[39mFalse\u001b[39;00m\n",
      "\u001b[1;31mAttributeError\u001b[0m: 'Board' object has no attribute 'board'"
     ]
    }
   ],
   "source": [
    "#get one solution of 8-queen\n",
    "class Board:\n",
    "    def _init_(self):\n",
    "        self.board=[[\"_\" for _  in range(8)] for _ in range(8)]\n",
    "\n",
    "    def _repr_(self):\n",
    "        res=\"\"\n",
    "        for row in self.board:\n",
    "            for col in row:\n",
    "                res+=col\n",
    "                res+=\" \"\n",
    "            res+=\"\\n\"\n",
    "        return res\n",
    "    \n",
    "    def is_legal_row(self,row,col):\n",
    "        for j in range (len(self.board)):\n",
    "            if self.board[row][j]==\"Q\":\n",
    "                return False\n",
    "        return True\n",
    "            \n",
    "    def is_legal_col(self,row,col):\n",
    "        for i in range (len(self.board)):\n",
    "            if self.board[i][col]==\"Q\":\n",
    "                return False\n",
    "        return True\n",
    "    \n",
    "    def is_on_board(self,row,col):\n",
    "        return row>=0 and row<8 and col>=0 and col<8\n",
    "    \n",
    "    def is_legal_diag(self,row,col):\n",
    "        for i in range(len(self.board)):\n",
    "            if self.is_on_board(row-i,col-i) and self.board[row-i][col-i]==\"Q\":\n",
    "                return False \n",
    "            if self.is_on_board(row-i,col+i) and self.board[row-i][col+i]==\"Q\":\n",
    "                return False \n",
    "            if self.is_on_board(row+i,col-i) and self.board[row+i][col-i]==\"Q\":\n",
    "                return False \n",
    "            if self.is_on_board(row+i,col+i) and self.board[row+i][col+i]==\"Q\":\n",
    "                return False \n",
    "        return True \n",
    "    \n",
    "    def is_legal(self,row,col):\n",
    "        if not self.is_legal_row(row,col):\n",
    "            return False \n",
    "        if not self.is_legal_col(row,col):\n",
    "            return False\n",
    "        if not self.is_legal_diag(row,col):\n",
    "            return False\n",
    "        return True\n",
    "    \n",
    "    def set_queen_at(self,row,col):\n",
    "        self.board[row][col]=\"Q\"\n",
    "\n",
    "    def unset_queen_on(self,row):\n",
    "        self.board[row] = [\"_\" for _  in range(8)]\n",
    "\n",
    "    def get_queen_on(self,row):\n",
    "        for col in range(len(self.board)):\n",
    "            if self.board[row][col]==\"Q\":\n",
    "                return col\n",
    "        raise ValueError(\"programmer error\")\n",
    "\n",
    "    def search(self):\n",
    "        row=0\n",
    "        col=0\n",
    "        while row>=0:\n",
    "            if row<8:\n",
    "                if self.is_legal(row,col):\n",
    "                    self.set_queen_at(row,col)\n",
    "                    row+=1\n",
    "                    col=0\n",
    "                else: \n",
    "                    col+=1\n",
    "                    while col>=8:\n",
    "                        col=self.get_queen_on(row-1)\n",
    "                        self.unset_queen_on(row-1)\n",
    "                        col+=1\n",
    "                        row-=1\n",
    "            else: \n",
    "                print(\"Found a solution\")\n",
    "                print(self)\n",
    "                while col>=8:\n",
    "                    col=self.get_queen_on(row-1)\n",
    "                    self.unset_queen_on(row-1)\n",
    "                    col+=1\n",
    "                    row-=1\n",
    "                    \n",
    "        print(\"No more solutions\")\n",
    "\n",
    "\n",
    "\n",
    "my_board= Board()\n",
    "my_board.search()"
   ]
  }
 ],
 "metadata": {
  "kernelspec": {
   "display_name": "Python 3",
   "language": "python",
   "name": "python3"
  },
  "language_info": {
   "codemirror_mode": {
    "name": "ipython",
    "version": 3
   },
   "file_extension": ".py",
   "mimetype": "text/x-python",
   "name": "python",
   "nbconvert_exporter": "python",
   "pygments_lexer": "ipython3",
   "version": "3.11.5"
  },
  "orig_nbformat": 4,
  "vscode": {
   "interpreter": {
    "hash": "76ca05dc3ea24b2e3b98cdb7774adfbb40773424bf5109b477fd793f623715af"
   }
  }
 },
 "nbformat": 4,
 "nbformat_minor": 2
}
